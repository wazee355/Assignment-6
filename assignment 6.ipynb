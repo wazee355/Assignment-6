{
 "cells": [
  {
   "cell_type": "raw",
   "id": "821bc5b6",
   "metadata": {},
   "source": [
    "1. What are escape characters, and how do you use them?\n",
    "\n",
    "Answer- Escape character or sequence are illegal character for python and never get printed as part of the output. To use escape character we need to use backlash to escape for the next characters.\n",
    "ex- \\escape character"
   ]
  },
  {
   "cell_type": "raw",
   "id": "ed627022",
   "metadata": {},
   "source": [
    "2. What do the escape characters n and t stand for?\n",
    "\n",
    "Answer- The escape character n stands for \" New Line\" and t stands for \"Tab\"."
   ]
  },
  {
   "cell_type": "raw",
   "id": "8af050b0",
   "metadata": {},
   "source": [
    "3. What is the way to include backslash characters in a string?\n",
    "\n",
    "Answer- To include backslash characters in a string we need two backslashes or use the @ verbatim string."
   ]
  },
  {
   "cell_type": "raw",
   "id": "b10e6f8d",
   "metadata": {},
   "source": [
    "4. The string \"Howl's Moving Castle\" is a correct value. Why isn't the single quote character in the word Howl's not escaped a problem?\n",
    "\n",
    "Answer- The single quote in Howl's is fine because you have used double quotes to mark the beginning and at the end of the string."
   ]
  },
  {
   "cell_type": "raw",
   "id": "2c898da9",
   "metadata": {},
   "source": [
    "5. How do you write a string of newlines if you don't want to use the n character?\n",
    "\n",
    "Answer- Multiline strings allow you to use newlines in strings without the \\n escape character."
   ]
  },
  {
   "cell_type": "raw",
   "id": "11451674",
   "metadata": {},
   "source": [
    "6. What are the values of the given expressions?\n",
    "'Hello, world!'[1]\n",
    "'Hello, world!'[0:5]\n",
    "'Hello, world!'[:5]\n",
    "'Hello, world!'[3:]\n",
    "\n",
    "Answer- 'e'\n",
    "        'Hello'\n",
    "        'Hello'\n",
    "        'lo, world!"
   ]
  },
  {
   "cell_type": "raw",
   "id": "d2e027b3",
   "metadata": {},
   "source": [
    "7. What are the values of the following expressions?\n",
    "'Hello'.upper()\n",
    "'Hello'.upper().isupper()\n",
    "'Hello'.upper().lower()\n",
    "\n",
    "Answer- 'HELLO'\n",
    "        True\n",
    "        'hello'"
   ]
  },
  {
   "cell_type": "raw",
   "id": "909fc83f",
   "metadata": {},
   "source": [
    "8. What are the values of the following expressions?\n",
    "'Remember, remember, the fifth of July.'.split()\n",
    "'-'.join('There can only one.'.split())\n",
    "\n",
    "Answer- The values are :\n",
    "        ['Remember,','remember,','the','fifith','of','November'.]\n",
    "\n",
    "'There-can-be-only-one'.\n",
    "      "
   ]
  },
  {
   "cell_type": "raw",
   "id": "d4846c2a",
   "metadata": {},
   "source": [
    "9. What are the methods for right-justifying, left-justifying, and centering a string?\n",
    "\n",
    "Answer- The methods for right-justifying, left-justifying, and centering a string are rjust(), ljust() and center()."
   ]
  },
  {
   "cell_type": "raw",
   "id": "bcd0dc17",
   "metadata": {},
   "source": [
    "10. What is the best way to remove whitespace characters from the start or end?\n",
    "\n",
    "Answer- The best way to remove whitespace characters from the start and the end are lstrip() and rstrip(). "
   ]
  }
 ],
 "metadata": {
  "kernelspec": {
   "display_name": "Python 3 (ipykernel)",
   "language": "python",
   "name": "python3"
  },
  "language_info": {
   "codemirror_mode": {
    "name": "ipython",
    "version": 3
   },
   "file_extension": ".py",
   "mimetype": "text/x-python",
   "name": "python",
   "nbconvert_exporter": "python",
   "pygments_lexer": "ipython3",
   "version": "3.9.7"
  }
 },
 "nbformat": 4,
 "nbformat_minor": 5
}
